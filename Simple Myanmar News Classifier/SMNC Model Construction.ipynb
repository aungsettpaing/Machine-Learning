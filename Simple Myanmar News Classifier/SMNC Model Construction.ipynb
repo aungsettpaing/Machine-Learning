{
 "cells": [
  {
   "cell_type": "markdown",
   "metadata": {},
   "source": [
    "### Import libraries"
   ]
  },
  {
   "cell_type": "code",
   "execution_count": 1,
   "metadata": {},
   "outputs": [],
   "source": [
    "import pandas as pd\n",
    "import glob\n",
    "import nltk\n",
    "import re\n",
    "import heapq\n",
    "from nltk.tokenize.punkt import PunktSentenceTokenizer, PunktLanguageVars\n",
    "import pickle\n",
    "from sklearn.feature_extraction.text import TfidfTransformer\n",
    "from sklearn.naive_bayes import MultinomialNB\n",
    "from sklearn.model_selection import train_test_split\n",
    "from sklearn.feature_extraction.text import CountVectorizer\n",
    "from sklearn.metrics import confusion_matrix\n",
    "from sklearn.metrics import accuracy_score"
   ]
  },
  {
   "cell_type": "markdown",
   "metadata": {},
   "source": [
    "### Loading myanmar stopwords and dictionary file"
   ]
  },
  {
   "cell_type": "code",
   "execution_count": 2,
   "metadata": {},
   "outputs": [
    {
     "name": "stdout",
     "output_type": "stream",
     "text": [
      "40196\n",
      "599\n"
     ]
    }
   ],
   "source": [
    "dict_words = open(\"myanmar-dictionary.txt\", encoding=\"utf8\").read().splitlines() # your path here\n",
    "stop_words = open(\"myanmar-stopwords-list.txt\", encoding=\"utf8\").read().splitlines() # your path here\n",
    "print(len(dict_words))\n",
    "print(len(stop_words))"
   ]
  },
  {
   "cell_type": "markdown",
   "metadata": {},
   "source": [
    "### Syllabification"
   ]
  },
  {
   "cell_type": "code",
   "execution_count": 3,
   "metadata": {},
   "outputs": [],
   "source": [
    "# Myanmar Language\n",
    "myConsonant = \"က-အ\"\n",
    "enChar = \"a-zA-Z0-9\"\n",
    "mmDigit = \"၀-၉\"\n",
    "otherChar = \"ဣဤဥဦဧဩဪဿ၌၍၏၊။!-/:-@[-`{-~\\s\"\n",
    "ssSymbol = '္'\n",
    "ngaThat = 'င်'\n",
    "aThat = '်'\n",
    "# Modified RE (for myanmar digit)\n",
    "BreakPattern = re.compile(r\"((?<!\" + ssSymbol + r\")[\"+ myConsonant + r\"](?![\" + aThat + ssSymbol + r\"])\" + r\"|[\" + otherChar + r\"]|[၀-၉]+|[a-zA-Z]+)\", re.UNICODE)\n",
    "# sylbreak function\n",
    "def sylbreak(line):\n",
    "       line = re.sub(r\"\\s+\",\"\", line)\n",
    "       line = BreakPattern.sub(r\" \" + r\"\\1\", line)\n",
    "       return line"
   ]
  },
  {
   "cell_type": "markdown",
   "metadata": {},
   "source": [
    "### Function for Searching word in Dictionary"
   ]
  },
  {
   "cell_type": "code",
   "execution_count": 4,
   "metadata": {},
   "outputs": [],
   "source": [
    "# Search the created N-syllable words in dictionary\n",
    "def _is_in_dictionary(word):\n",
    "    found = True\n",
    "    if word in found_words:\n",
    "        found = True\n",
    "    elif word in not_found_words:\n",
    "        found = False\n",
    "    elif not (word in dict_words or word in stop_words):\n",
    "        not_found_words.add(word)\n",
    "        found = False\n",
    "    else:\n",
    "        found_words.add(word)\n",
    "    return found"
   ]
  },
  {
   "cell_type": "markdown",
   "metadata": {},
   "source": [
    "### Function to segment myanmar words"
   ]
  },
  {
   "cell_type": "code",
   "execution_count": 5,
   "metadata": {},
   "outputs": [],
   "source": [
    "# Greedy Left to Right Matching with maximum syllable, 6\n",
    "def _left_to_right_matching(_input, _max_syllable):\n",
    "    length = len(_input)\n",
    "    position = 0\n",
    "    result = []\n",
    "    \n",
    "    while length > 0:\n",
    "        for i in range(_max_syllable, 0, -1):\n",
    "            size = position + i\n",
    "            \n",
    "            # Proposed Segmented Words\n",
    "            word = \"\".join(_input[position:size])\n",
    "            \n",
    "            if _is_in_dictionary(word) or i == 1:\n",
    "                result.append(word)\n",
    "                position += i\n",
    "                length -= i\n",
    "                break\n",
    "    return result"
   ]
  },
  {
   "cell_type": "markdown",
   "metadata": {},
   "source": [
    "### Customized Sentence Segmentation For Myanmar Text"
   ]
  },
  {
   "cell_type": "code",
   "execution_count": 6,
   "metadata": {},
   "outputs": [],
   "source": [
    "# Customize Class for Burmese sentence segmentation\n",
    "class BulletPointLangVars(PunktLanguageVars):\n",
    "    sent_end_chars = ('။')"
   ]
  },
  {
   "cell_type": "markdown",
   "metadata": {},
   "source": [
    "### Pre processing Myanmar Text"
   ]
  },
  {
   "cell_type": "code",
   "execution_count": 7,
   "metadata": {},
   "outputs": [],
   "source": [
    "found_words = set()\n",
    "not_found_words = set()\n",
    "max_syllable = 6"
   ]
  },
  {
   "cell_type": "code",
   "execution_count": 8,
   "metadata": {},
   "outputs": [],
   "source": [
    "def pre_process_data(data):\n",
    "    # Replacing End of Sentence symbol for segementation purpose\n",
    "    formatted_data = re.sub(\"[။]\", \" ။ \", data)\n",
    "    # Sentences segmentation\n",
    "    tokenizer = PunktSentenceTokenizer(lang_vars = BulletPointLangVars())\n",
    "    sentences = tokenizer.tokenize(formatted_data)\n",
    "    # Clean Text\n",
    "    formatted_data = re.sub('[။?၊\\\\(\\\\)]', ' ', data)\n",
    "    formatted_data = re.sub(r'\\s+', ' ', formatted_data)\n",
    "    # Syllable Break for input text\n",
    "    syllables = sylbreak(formatted_data)\n",
    "    # Restore syllables in List\n",
    "    syllable_tokens = nltk.word_tokenize(syllables)\n",
    "    # Greedy Segmentation with max_syllable = 6\n",
    "    segmented_text = _left_to_right_matching(syllable_tokens, max_syllable)\n",
    "    return segmented_text"
   ]
  },
  {
   "cell_type": "markdown",
   "metadata": {},
   "source": [
    "### Function to read raw news"
   ]
  },
  {
   "cell_type": "code",
   "execution_count": 9,
   "metadata": {},
   "outputs": [],
   "source": [
    "### Creating a function to load all news\n",
    "def read_raw_news(text_files, category):\n",
    "    for t in text_files:\n",
    "        f = open(t, encoding=\"utf8\")\n",
    "        f = f.read()\n",
    "        t = f.split(\"\\n\")\n",
    "        \n",
    "        data = pre_process_data(t[0])\n",
    "        strr = \" \".join(map(str, data))\n",
    "        raw_train_data.append({'data' : strr, 'flag' : category_list.index(category)})"
   ]
  },
  {
   "cell_type": "markdown",
   "metadata": {},
   "source": [
    "### Defining the news category"
   ]
  },
  {
   "cell_type": "code",
   "execution_count": 10,
   "metadata": {},
   "outputs": [],
   "source": [
    "# Category list\n",
    "category_list = ['business','crime','editorial','entertainment','politic']\n",
    "# Training dataset\n",
    "raw_train_data = []"
   ]
  },
  {
   "cell_type": "markdown",
   "metadata": {},
   "source": [
    "### Function to read news directory"
   ]
  },
  {
   "cell_type": "code",
   "execution_count": 11,
   "metadata": {},
   "outputs": [],
   "source": [
    "# creating a function to read all directory of news\n",
    "def read_news_directory(category):\n",
    "    link = \"dataset\\\\\" + category + \"\\\\*.txt\" # your path here\n",
    "    directory = [link] \n",
    "    # Getting news directory\n",
    "    news = list(map(lambda x: glob.glob(x), directory))\n",
    "    # Splitting each news directory\n",
    "    news = [item for sublist in news for item in sublist]\n",
    "    # Reading all news under each category\n",
    "    read_raw_news(news, category)"
   ]
  },
  {
   "cell_type": "markdown",
   "metadata": {},
   "source": [
    "### Loading news"
   ]
  },
  {
   "cell_type": "code",
   "execution_count": 12,
   "metadata": {
    "scrolled": true
   },
   "outputs": [],
   "source": [
    "# business\n",
    "read_news_directory(category_list[0])\n",
    "# crime\n",
    "read_news_directory(category_list[1])\n",
    "# editorial\n",
    "read_news_directory(category_list[2])\n",
    "# entertainment\n",
    "read_news_directory(category_list[3])\n",
    "# politics\n",
    "read_news_directory(category_list[4])"
   ]
  },
  {
   "cell_type": "markdown",
   "metadata": {},
   "source": [
    "### Creating a dataframe"
   ]
  },
  {
   "cell_type": "code",
   "execution_count": 13,
   "metadata": {
    "scrolled": true
   },
   "outputs": [
    {
     "name": "stdout",
     "output_type": "stream",
     "text": [
      "(499,)\n"
     ]
    }
   ],
   "source": [
    "data_df = pd.DataFrame(raw_train_data, columns=['data', 'flag'])\n",
    "print(data_df.data.shape)"
   ]
  },
  {
   "cell_type": "markdown",
   "metadata": {},
   "source": [
    "### Saving data as pickle file"
   ]
  },
  {
   "cell_type": "code",
   "execution_count": 14,
   "metadata": {},
   "outputs": [],
   "source": [
    "data_df.to_pickle(\"data_df.pkl\") # your path here"
   ]
  },
  {
   "cell_type": "markdown",
   "metadata": {},
   "source": [
    "### Count Vectorizer"
   ]
  },
  {
   "cell_type": "code",
   "execution_count": 15,
   "metadata": {},
   "outputs": [],
   "source": [
    "count_vectorizer = CountVectorizer(tokenizer=lambda x: x.split())\n",
    "X_train_counts = count_vectorizer.fit_transform(data_df.data)\n",
    "pickle.dump(count_vectorizer.vocabulary_ , open(\"count_vector.pkl\", \"wb\")) # your path here"
   ]
  },
  {
   "cell_type": "markdown",
   "metadata": {},
   "source": [
    "### TFIDF"
   ]
  },
  {
   "cell_type": "code",
   "execution_count": 16,
   "metadata": {},
   "outputs": [],
   "source": [
    "tfidf_transformer = TfidfTransformer()\n",
    "X_train_tfidf = tfidf_transformer.fit_transform(X_train_counts)\n",
    "pickle.dump(tfidf_transformer , open(\"tfidf.pkl\", \"wb\")) # your path here"
   ]
  },
  {
   "cell_type": "markdown",
   "metadata": {},
   "source": [
    "### Model Construction"
   ]
  },
  {
   "cell_type": "code",
   "execution_count": 17,
   "metadata": {},
   "outputs": [],
   "source": [
    "X_train, X_test, Y_train, Y_test = train_test_split(X_train_tfidf, data_df.flag, test_size=0.25, random_state=42)\n",
    "nb = MultinomialNB().fit(X_train, Y_train)\n",
    "# Save model as pickle file\n",
    "pickle.dump(nb, open(\"nb_model.pkl\", \"wb\"))\n",
    "pickle.dump(X_train, open(\"x_train.pkl\", \"wb\"))\n",
    "pickle.dump(X_test, open(\"x_test.pkl\", \"wb\"))\n",
    "pickle.dump(Y_train, open(\"y_train.pkl\", \"wb\"))\n",
    "pickle.dump(Y_test, open(\"y_test.pkl\", \"wb\"))"
   ]
  }
 ],
 "metadata": {
  "kernelspec": {
   "display_name": "Python 3",
   "language": "python",
   "name": "python3"
  },
  "language_info": {
   "codemirror_mode": {
    "name": "ipython",
    "version": 3
   },
   "file_extension": ".py",
   "mimetype": "text/x-python",
   "name": "python",
   "nbconvert_exporter": "python",
   "pygments_lexer": "ipython3",
   "version": "3.6.5"
  }
 },
 "nbformat": 4,
 "nbformat_minor": 2
}
