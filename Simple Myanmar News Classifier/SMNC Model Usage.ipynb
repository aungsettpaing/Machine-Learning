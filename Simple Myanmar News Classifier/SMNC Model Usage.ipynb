{
 "cells": [
  {
   "cell_type": "code",
   "execution_count": 1,
   "metadata": {},
   "outputs": [],
   "source": [
    "import pandas as pd\n",
    "import numpy as np\n",
    "import glob\n",
    "import nltk\n",
    "import re\n",
    "import heapq\n",
    "from nltk.tokenize.punkt import PunktSentenceTokenizer, PunktLanguageVars\n",
    "import pickle\n",
    "from sklearn.feature_extraction.text import TfidfTransformer\n",
    "from sklearn.naive_bayes import MultinomialNB\n",
    "from sklearn.model_selection import train_test_split\n",
    "from sklearn.feature_extraction.text import CountVectorizer\n",
    "from sklearn.metrics import confusion_matrix\n",
    "from sklearn.metrics import accuracy_score\n",
    "import matplotlib.pyplot as plt"
   ]
  },
  {
   "cell_type": "markdown",
   "metadata": {},
   "source": [
    "### Loading pre-trained model"
   ]
  },
  {
   "cell_type": "code",
   "execution_count": 3,
   "metadata": {},
   "outputs": [],
   "source": [
    "loaded_vec= CountVectorizer(vocabulary=pickle.load(open(\"count_vector.pkl\", \"rb\"))) # your path here \n",
    "loaded_tfidf = pickle.load(open(\"tfidf.pkl\", \"rb\")) # your path here\n",
    "loaded_model = pickle.load(open(\"nb_model.pkl\", \"rb\")) # your path here"
   ]
  },
  {
   "cell_type": "markdown",
   "metadata": {},
   "source": [
    "### Loading testing data"
   ]
  },
  {
   "cell_type": "code",
   "execution_count": 4,
   "metadata": {},
   "outputs": [],
   "source": [
    "X_test = pickle.load(open(\"x_test.pkl\", \"rb\")) # your path here\n",
    "Y_test = pickle.load(open(\"y_test.pkl\", \"rb\")) # your path here"
   ]
  },
  {
   "cell_type": "markdown",
   "metadata": {},
   "source": [
    "### Model Usage / Classification"
   ]
  },
  {
   "cell_type": "code",
   "execution_count": 5,
   "metadata": {},
   "outputs": [
    {
     "name": "stdout",
     "output_type": "stream",
     "text": [
      "Predicted Label - Actual Label\n",
      "------------------------------\n",
      "politic  -  politic\n",
      "business  -  business\n",
      "editorial  -  editorial\n",
      "crime  -  crime\n",
      "editorial  -  editorial\n",
      "politic  -  politic\n",
      "crime  -  crime\n",
      "business  -  business\n",
      "entertainment  -  entertainment\n",
      "business  -  business\n",
      "crime  -  crime\n",
      "editorial  -  editorial\n",
      "entertainment  -  entertainment\n",
      "crime  -  crime\n",
      "crime  -  crime\n",
      "politic  -  politic\n",
      "politic  -  politic\n",
      "editorial  -  business\n",
      "crime  -  crime\n",
      "crime  -  politic\n",
      "editorial  -  editorial\n",
      "editorial  -  editorial\n",
      "politic  -  politic\n",
      "business  -  business\n",
      "business  -  business\n",
      "business  -  business\n",
      "entertainment  -  entertainment\n",
      "politic  -  politic\n",
      "business  -  business\n",
      "business  -  business\n",
      "politic  -  politic\n",
      "business  -  business\n",
      "crime  -  crime\n",
      "business  -  business\n",
      "entertainment  -  entertainment\n",
      "business  -  business\n",
      "editorial  -  editorial\n",
      "editorial  -  crime\n",
      "business  -  politic\n",
      "editorial  -  editorial\n",
      "editorial  -  crime\n",
      "politic  -  politic\n",
      "business  -  business\n",
      "entertainment  -  entertainment\n",
      "business  -  business\n",
      "politic  -  business\n",
      "entertainment  -  entertainment\n",
      "crime  -  crime\n",
      "business  -  business\n",
      "entertainment  -  entertainment\n",
      "editorial  -  editorial\n",
      "editorial  -  politic\n",
      "entertainment  -  entertainment\n",
      "crime  -  crime\n",
      "business  -  business\n",
      "entertainment  -  entertainment\n",
      "politic  -  politic\n",
      "politic  -  politic\n",
      "politic  -  politic\n",
      "editorial  -  editorial\n",
      "politic  -  politic\n",
      "business  -  business\n",
      "politic  -  politic\n",
      "editorial  -  editorial\n",
      "editorial  -  editorial\n",
      "crime  -  crime\n",
      "entertainment  -  entertainment\n",
      "business  -  business\n",
      "politic  -  politic\n",
      "editorial  -  editorial\n",
      "politic  -  politic\n",
      "crime  -  crime\n",
      "business  -  business\n",
      "business  -  business\n",
      "politic  -  politic\n",
      "editorial  -  editorial\n",
      "editorial  -  editorial\n",
      "business  -  business\n",
      "business  -  business\n",
      "politic  -  politic\n",
      "entertainment  -  entertainment\n",
      "editorial  -  politic\n",
      "crime  -  crime\n",
      "politic  -  politic\n",
      "entertainment  -  entertainment\n",
      "crime  -  crime\n",
      "entertainment  -  entertainment\n",
      "politic  -  politic\n",
      "crime  -  crime\n",
      "editorial  -  editorial\n",
      "entertainment  -  entertainment\n",
      "politic  -  business\n",
      "business  -  business\n",
      "politic  -  politic\n",
      "business  -  business\n",
      "editorial  -  editorial\n",
      "entertainment  -  entertainment\n",
      "business  -  business\n",
      "entertainment  -  entertainment\n",
      "entertainment  -  entertainment\n",
      "business  -  business\n",
      "editorial  -  editorial\n",
      "editorial  -  editorial\n",
      "politic  -  politic\n",
      "editorial  -  editorial\n",
      "politic  -  politic\n",
      "politic  -  politic\n",
      "entertainment  -  entertainment\n",
      "business  -  business\n",
      "editorial  -  editorial\n",
      "crime  -  crime\n",
      "politic  -  politic\n",
      "crime  -  crime\n",
      "business  -  business\n",
      "politic  -  politic\n",
      "editorial  -  editorial\n",
      "editorial  -  editorial\n",
      "politic  -  politic\n",
      "editorial  -  editorial\n",
      "entertainment  -  entertainment\n",
      "politic  -  politic\n",
      "politic  -  politic\n",
      "entertainment  -  entertainment\n",
      "business  -  business\n",
      "editorial  -  entertainment\n"
     ]
    }
   ],
   "source": [
    "category_list = ['business','crime','editorial','entertainment','politic']\n",
    "predicted = loaded_model.predict(X_test)\n",
    "\n",
    "print(\"Predicted Label - Actual Label\")\n",
    "print(\"------------------------------\")\n",
    "for predicted_item, result in zip(predicted, Y_test):\n",
    "    print(category_list[predicted_item], ' - ' , category_list[result])"
   ]
  },
  {
   "cell_type": "markdown",
   "metadata": {},
   "source": [
    "### Confusion Matrix"
   ]
  },
  {
   "cell_type": "code",
   "execution_count": 6,
   "metadata": {},
   "outputs": [
    {
     "name": "stdout",
     "output_type": "stream",
     "text": [
      "               business  crime  editorial  entertainment  politic\n",
      "business             28      0          1              0        2\n",
      "crime                 0     16          2              0        0\n",
      "editorial             0      0         23              0        0\n",
      "entertainment         0      0          1             20        0\n",
      "politic               1      1          2              0       28\n"
     ]
    }
   ],
   "source": [
    "print(pd.DataFrame(confusion_matrix(Y_test, predicted), index=category_list, columns=category_list))"
   ]
  },
  {
   "cell_type": "markdown",
   "metadata": {},
   "source": [
    "### Printing accuracy score"
   ]
  },
  {
   "cell_type": "code",
   "execution_count": 7,
   "metadata": {},
   "outputs": [
    {
     "data": {
      "text/plain": [
       "0.92"
      ]
     },
     "execution_count": 7,
     "metadata": {},
     "output_type": "execute_result"
    }
   ],
   "source": [
    "accuracy_score(Y_test, predicted)"
   ]
  },
  {
   "cell_type": "markdown",
   "metadata": {},
   "source": [
    "### Testing another news article"
   ]
  },
  {
   "cell_type": "code",
   "execution_count": 9,
   "metadata": {},
   "outputs": [
    {
     "name": "stdout",
     "output_type": "stream",
     "text": [
      "entertainment\n"
     ]
    }
   ],
   "source": [
    "doc_news = \"\"\" ယမန်နေ့က လော့စ်အိန်ဂျလိစ်မြို့၊ Beverly Hilton ဟိုတယ်မှာ အော်စကာဆုလျာထားခံရတဲ့ ရုပ်ရှင်မင်းသား၊ မင်းသမီးတွေ စုရုံးပြီး နေ့လယ်စာ အတူတကွသုံးဆောင်ခဲ့ကြတယ်လို့ သိရပါတယ်။\n",
    "အဆိုပါနေ့လယ်စာစားပွဲကို ရုပ်ရှင်မင်းသမီး၊ အဆိုတော် Lady Gaga၊ ရုပ်ရှင်မင်းသား၊ ဒါရိုက်တာ Bradley Cooper၊ ရုပ်ရှင်မင်းသမီး Glenn Close၊ ရုပ်ရှင်မင်းသား Viggo Mortensen၊ ရုပ်ရှင်ဒါရိုက်တာ Spike Lee၊ ရုပ်ရှင်မင်းသမီး Melissa McCarthy အပါအဝင် ကမ္ဘာတစ်ဝန်းက အော်စကာဆုလျာထားခံရတဲ့ အခြားအခြားသော အနုပညာရှင်တွေ တက်ရောက်ခဲ့ကြတာဖြစ်ပါတယ်။\n",
    "အကောင်းဆုံး နိုင်ငံခြားရုပ်ရှင်ဇာတ်ကားဆုလျာထားခံရတဲ့ ဇာတ်ကားတွေအနက် Netflix ရုပ်သံလိုင်းမှာ ရေပန်းစားနေတဲ့ Roma မက္ကဆီကိုဇာတ်ကား၊ The Favourite ဗြိတိသျှဇာတ်ကား၊ Cold War ပိုလန်ဇာတ်ကား၊ Never Look Away ဂျာမနီဇာတ်ကားနဲ့ Shoplifters ဂျပန်ဇာတ်ကားတို့ ပါဝင်ကြောင်း သိရှိရပါတယ်။\n",
    "ပြီးခဲ့တဲ့လအနည်းငယ်က ရုံတင်ပြသခဲ့တဲ့ Black Panther၊ A Star is Born ရုပ်ရှင်ကားတွေအပြင် BlacKkKlansman၊ Bohemian Rhapsody၊ La Favorite၊ Green Book အစရှိတဲ့ ဇာတ်ကားတွေကတော့ အကောင်းဆုံးရုပ်ရှင်ဇာတ်ကားဆု လျာထားခံရတဲ့ ဇာတ်ကားတွေဖြစ်ပါတယ်။\n",
    "အကောင်းဆုံး အမျိုးသားရုပ်ရှင်ဇာတ်ဆောင်ဆု လျာထားခံရသူတွေထဲမှာ Vice ဇာတ်ကားထဲမှာ သရုပ်ဆောင်ထားတဲ့ မင်းသား Christian Bale၊ A Star is Born ဇာတ်ကားရဲ့ ဇာတ်ဆောင် Bradley Cooper၊ At Eternity’s Gate ဇာတ်ကားမှာ ပါဝင်သရုပ်ဆောင်ထားတဲ့ မင်းသား Willem Dafoe၊ Bohemian Rhapsody ဇာတ်ကားရဲ့ ဇာတ်ဆောင်မင်းသား Rami Malek နဲ့ Green Book ဇာတ်ကားမှာ သရုပ်ဆောင်ထားတဲ့ Viggo Mortensen တို့ပါဝင်ပါတယ်။\n",
    "အကောင်းဆုံး အမျိုးသမီးရုပ်ရှင်ဇာတ်ဆောင်ဆု လျာထားခံရသူတွေထဲမှာတော့ Roma ဇာတ်ကားရဲ့ အမျိုးသမီးဇာတ်ဆောင် Yalitza Aparicio၊ A Star is Born ရုပ်ရှင်ကားရဲ့ အမျိုးသမီးဇာတ်ဆောင် Lady Gaga၊ Can You Ever Forgive Me ဇာတ်ကားမှာ သရုပ်ဆောင်ထားတဲ့ Melissa McCarthy၊ The Wife ဇာတ်ကားရဲ့ အမျိုးသမီးဇာတ်ဆောင် Glenn Close တို့ပါဝင်ပါတယ်။\n",
    "ရုပ်ရှင်လောကရဲ့ အထင်ကရဆုပေးပွဲကြီးဖြစ်တဲ့ ၉၁ ကြိမ်မြောက် အော်စကာဆုပေးပွဲကို လာမယ့် ဖေဖော်ဝါရီလ၊ ၂၅ ရက်၊ Dolby ပြဇာတ်ရုံ၊ လော့စ်အိန်ဂျလိစ်မြို့မှာ ကျင်းပပြုလုပ်သွားမှာဖြစ်ပါတယ်။\"\"\"\n",
    "\n",
    "doc_news = [doc_news]\n",
    "\n",
    "vector = loaded_vec.transform(doc_news)\n",
    "tfidf = loaded_tfidf.transform(vector)\n",
    "predicted = loaded_model.predict(tfidf)\n",
    "print(category_list[predicted[0]])"
   ]
  }
 ],
 "metadata": {
  "kernelspec": {
   "display_name": "Python 3",
   "language": "python",
   "name": "python3"
  },
  "language_info": {
   "codemirror_mode": {
    "name": "ipython",
    "version": 3
   },
   "file_extension": ".py",
   "mimetype": "text/x-python",
   "name": "python",
   "nbconvert_exporter": "python",
   "pygments_lexer": "ipython3",
   "version": "3.6.5"
  }
 },
 "nbformat": 4,
 "nbformat_minor": 2
}
