{
 "cells": [
  {
   "cell_type": "markdown",
   "metadata": {},
   "source": [
    "# Naive Bayes Classifier"
   ]
  },
  {
   "cell_type": "code",
   "execution_count": 1,
   "metadata": {},
   "outputs": [],
   "source": [
    "#classification for allelectronics dataset\n",
    "\n",
    "import pandas as pd\n",
    "from numpy import array\n",
    "from sklearn.naive_bayes import GaussianNB"
   ]
  },
  {
   "cell_type": "markdown",
   "metadata": {},
   "source": [
    "## Loading the dataset"
   ]
  },
  {
   "cell_type": "code",
   "execution_count": 2,
   "metadata": {},
   "outputs": [
    {
     "name": "stdout",
     "output_type": "stream",
     "text": [
      "[['youth' 'high' 'no' 'fair' 'no']\n",
      " ['youth' 'high' 'no' 'excellent' 'no']\n",
      " ['middle_aged' 'high' 'no' 'fair' 'yes']\n",
      " ['senior' 'medium' 'no' 'fair' 'yes']\n",
      " ['senior' 'low' 'yes' 'fair' 'yes']\n",
      " ['senior' 'low' 'yes' 'excellent' 'no']\n",
      " ['middle_aged' 'low' 'yes' 'excellent' 'yes']\n",
      " ['youth' 'medium' 'no' 'fair' 'no']\n",
      " ['youth' 'low' 'yes' 'fair' 'yes']\n",
      " ['senior' 'medium' 'yes' 'fair' 'yes']\n",
      " ['youth' 'medium' 'yes' 'excellent' 'yes']\n",
      " ['middle_aged' 'medium' 'no' 'excellent' 'yes']\n",
      " ['middle_aged' 'high' 'yes' 'fair' 'yes']\n",
      " ['senior' 'medium' 'no' 'excellent' 'no']]\n"
     ]
    }
   ],
   "source": [
    "#load data\n",
    "\n",
    "data = pd.read_csv(\"allelectronics.csv\", usecols=range(1,6))\n",
    "print(array(data))"
   ]
  },
  {
   "cell_type": "markdown",
   "metadata": {},
   "source": [
    "## Loading the encoded dataset"
   ]
  },
  {
   "cell_type": "code",
   "execution_count": 3,
   "metadata": {},
   "outputs": [
    {
     "name": "stdout",
     "output_type": "stream",
     "text": [
      "[[0 2 0 0 0]\n",
      " [0 2 0 1 0]\n",
      " [1 2 0 0 1]\n",
      " [2 1 0 0 1]\n",
      " [2 0 1 0 1]\n",
      " [2 0 1 1 0]\n",
      " [1 0 1 1 1]\n",
      " [0 1 0 0 0]\n",
      " [0 0 1 0 1]\n",
      " [2 1 1 0 1]\n",
      " [0 1 1 1 1]\n",
      " [1 1 0 1 1]\n",
      " [1 2 1 0 1]\n",
      " [2 1 0 1 0]]\n"
     ]
    }
   ],
   "source": [
    "#encode the dataset into numeric values.\n",
    "\n",
    "allelectronics = pd.read_csv(\"allelectronicsencoding.csv\",header=None, skiprows=1, usecols=range(1,6))\n",
    "allelectronics = array(allelectronics)\n",
    "print(allelectronics)"
   ]
  },
  {
   "cell_type": "markdown",
   "metadata": {},
   "source": [
    "## Splitting features and class"
   ]
  },
  {
   "cell_type": "code",
   "execution_count": 4,
   "metadata": {},
   "outputs": [
    {
     "name": "stdout",
     "output_type": "stream",
     "text": [
      "(14, 4)\n",
      "(14, 1)\n"
     ]
    }
   ],
   "source": [
    "# Splitting Features and Target\n",
    "\n",
    "# X_train = age, income, student, credit_rating\n",
    "X_train = allelectronics[:, 0:4]\n",
    "\n",
    "# Y_train = buys_computer\n",
    "Y_train = allelectronics[:, 4:5]\n",
    "\n",
    "# (n, m) = n rows m columns\n",
    "print(X_train.shape) \n",
    "print(Y_train.shape)"
   ]
  },
  {
   "cell_type": "markdown",
   "metadata": {},
   "source": [
    "## Learning Step (classification model construction step)"
   ]
  },
  {
   "cell_type": "code",
   "execution_count": null,
   "metadata": {},
   "outputs": [],
   "source": [
    "# Classifier\n",
    "gnb = GaussianNB()\n",
    "\n",
    "# Model Construction\n",
    "gnb = gnb.fit(X_train, Y_train)"
   ]
  },
  {
   "cell_type": "markdown",
   "metadata": {},
   "source": [
    "## Classification Step (classification model usage step)\n",
    "\n",
    "### This step is to classify whether a person buys a computer while we know that he/she is a young student and his/her income and credit_rating is fair."
   ]
  },
  {
   "cell_type": "code",
   "execution_count": 6,
   "metadata": {},
   "outputs": [
    {
     "name": "stdout",
     "output_type": "stream",
     "text": [
      "YES\n"
     ]
    }
   ],
   "source": [
    "# Model Usage\n",
    "\n",
    "#[0,1,1,1] = [age = young, income = fair, student = yes, credit_rating = fair]\n",
    "X_test = array([[0,1,1,0]])\n",
    "\n",
    "pred_test = gnb.predict(X_test)\n",
    "\n",
    "# 1 is yes and 0 is no.\n",
    "if pred_test == 1:\n",
    "    print(\"YES\")\n",
    "else :\n",
    "    print(\"NO\")"
   ]
  }
 ],
 "metadata": {
  "kernelspec": {
   "display_name": "Python 3",
   "language": "python",
   "name": "python3"
  },
  "language_info": {
   "codemirror_mode": {
    "name": "ipython",
    "version": 3
   },
   "file_extension": ".py",
   "mimetype": "text/x-python",
   "name": "python",
   "nbconvert_exporter": "python",
   "pygments_lexer": "ipython3",
   "version": "3.6.5"
  }
 },
 "nbformat": 4,
 "nbformat_minor": 2
}
